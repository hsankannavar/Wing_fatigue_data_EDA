{
 "cells": [
  {
   "cell_type": "code",
   "execution_count": 3,
   "metadata": {},
   "outputs": [],
   "source": [
    "import numpy as np\n",
    "import matplotlib.pyplot as ply\n",
    "import pandas as pd"
   ]
  },
  {
   "cell_type": "code",
   "execution_count": 4,
   "metadata": {},
   "outputs": [],
   "source": [
    "#importing data set\n",
    "data=pd.read_csv(r\"C:\\Users\\user\\Desktop\\Wing_F&DT\\F&DT_repair.csv\",encoding= 'unicode_escape')"
   ]
  },
  {
   "cell_type": "code",
   "execution_count": 5,
   "metadata": {},
   "outputs": [
    {
     "data": {
      "text/plain": [
       "<bound method NDFrame.head of           Job no.        Engineer  Aircraft   MSN Family Folder numbering  \\\n",
       "0    80338290/009      Nanaiah KC  A330-300   109     LR            57-21   \n",
       "1    80579310/003   Jalajakshi NS  A319-100  1582     SA            57-41   \n",
       "2    80506634/005   Sreekantha HS  A319-100  2897     SA            57-31   \n",
       "3    80573752/004   Jalajakshi NS       NaN   NaN     SA            57-60   \n",
       "4    80590223/006   Raghavendra M  A319-100  3841     SA            57-22   \n",
       "..            ...             ...       ...   ...    ...              ...   \n",
       "494  80647152/003         Aruna L  A320-200  2368     SA            57-21   \n",
       "495  80623897/003  Kodieshwaran S  A340-300   321     LR            57-22   \n",
       "496  80511899/003   Raghavendra M  A320-200  2934     SA            57-22   \n",
       "497  80375313/003         Aruna L  A320-200  5355     SA            57-22   \n",
       "498  80509093/003   Jalajakshi NS  A380-800    96     DD            57-41   \n",
       "\n",
       "    FAS or RDTAS approved  Week  \\\n",
       "0               16-Aug-17  33.0   \n",
       "1               21-Feb-19   8.0   \n",
       "2               07-Sep-18  36.0   \n",
       "3               13-Aug-19  33.0   \n",
       "4               18-Mar-19  12.0   \n",
       "..                    ...   ...   \n",
       "494             16-Jul-19  29.0   \n",
       "495             23-May-19  21.0   \n",
       "496             18-Oct-18  42.0   \n",
       "497             12-Feb-18   7.0   \n",
       "498             10-Sep-18  37.0   \n",
       "\n",
       "                                           RDTAS_title  \\\n",
       "0    Corrosion,Top Skin PNL 3 Upper & Lower Surface...   \n",
       "1    Abrasion and Damage, Leading Edge Skins 1 and ...   \n",
       "2    Abrasion and Lightning Strike, Wingtip, Right ...   \n",
       "3    Abrasion, Aileron Jack Bracket 1 and 2, Inboar...   \n",
       "4    Abrasion, Bottom Skin Panel 3, Aft of Rear Spa...   \n",
       "..                                                 ...   \n",
       "494  Existing Rework, Top Skin Panel 2, Lower Surfa...   \n",
       "495  Fastener Replacement,Bottom Skin Panel 3, Ribs...   \n",
       "496  Fretting, Bottom Skin Panel 2 Lower Surface, M...   \n",
       "497  Gouge, Bottom Skin Panel 2 Lower Surface, Ribs...   \n",
       "498  Gouge, IIFLE, Rib 2, Inner Flange, Left Hand Wing   \n",
       "\n",
       "                 WVs (F&DT)          RDTAS category  \\\n",
       "0          000-004, 010-014            B; with AWDC   \n",
       "1                       ALL                       A   \n",
       "2                       ALL                       A   \n",
       "3    F I L L - IN - H E R E  F I L L - IN - H E R E   \n",
       "4         000-009, 011, 012            B; with AWDC   \n",
       "..                      ...                     ...   \n",
       "494                 000-019            B; with AWDC   \n",
       "495                     ALL                       A   \n",
       "496                 000-019            B; with AWDC   \n",
       "497                 008-019              B; no AWDC   \n",
       "498                     ALL                       A   \n",
       "\n",
       "           Means of Compliance (MoC)  \\\n",
       "0                                  -   \n",
       "1                       SRM 57-41-11   \n",
       "2                       SRM 57-31-21   \n",
       "3             F I L L - IN - H E R E   \n",
       "4                                  -   \n",
       "..                               ...   \n",
       "494                                -   \n",
       "495                     SRM 57-21-11   \n",
       "496                                -   \n",
       "497  D572-56683 Issue B (old format)   \n",
       "498          L574-54256 (old format)   \n",
       "\n",
       "                                    F&DT Keywords/Tags  \\\n",
       "0                                         SSI 57-50-11   \n",
       "1    FAS only; D5741RP0405608 Issue 3 (DMS 61402); ...   \n",
       "2    FAS only; non-FCBS; the affected areas are awa...   \n",
       "3                               F I L L - IN - H E R E   \n",
       "4    FAS only; previous case; DT approach; SSI 57-5...   \n",
       "..                                                 ...   \n",
       "494                 Fas Only; D5721RP0928910 Issue 3.0   \n",
       "495  FAS only; Fasteners oversized to 1st / 2nd ove...   \n",
       "496  FAS only; SA57RP1640160 Issue 1.0; ALI task 57...   \n",
       "497  SSI 57-21-40 from IRD; blend does not affect f...   \n",
       "498  FAS only; cat 2B aircraft; ACD6 of post MOD 71223   \n",
       "\n",
       "          Other technical information  \n",
       "0                                 NaN  \n",
       "1    external repair plates installed  \n",
       "2                                 NaN  \n",
       "3                                 NaN  \n",
       "4                                 NaN  \n",
       "..                                ...  \n",
       "494                               NaN  \n",
       "495                               NaN  \n",
       "496                               NaN  \n",
       "497                               NaN  \n",
       "498                               NaN  \n",
       "\n",
       "[499 rows x 14 columns]>"
      ]
     },
     "execution_count": 5,
     "metadata": {},
     "output_type": "execute_result"
    }
   ],
   "source": [
    "data.head\n"
   ]
  },
  {
   "cell_type": "code",
   "execution_count": 6,
   "metadata": {},
   "outputs": [
    {
     "data": {
      "text/plain": [
       "(499, 14)"
      ]
     },
     "execution_count": 6,
     "metadata": {},
     "output_type": "execute_result"
    }
   ],
   "source": [
    "data.shape\n"
   ]
  },
  {
   "cell_type": "code",
   "execution_count": 7,
   "metadata": {},
   "outputs": [
    {
     "data": {
      "text/html": [
       "<div>\n",
       "<style scoped>\n",
       "    .dataframe tbody tr th:only-of-type {\n",
       "        vertical-align: middle;\n",
       "    }\n",
       "\n",
       "    .dataframe tbody tr th {\n",
       "        vertical-align: top;\n",
       "    }\n",
       "\n",
       "    .dataframe thead th {\n",
       "        text-align: right;\n",
       "    }\n",
       "</style>\n",
       "<table border=\"1\" class=\"dataframe\">\n",
       "  <thead>\n",
       "    <tr style=\"text-align: right;\">\n",
       "      <th></th>\n",
       "      <th>MSN</th>\n",
       "    </tr>\n",
       "    <tr>\n",
       "      <th>Family</th>\n",
       "      <th></th>\n",
       "    </tr>\n",
       "  </thead>\n",
       "  <tbody>\n",
       "    <tr>\n",
       "      <th>DD</th>\n",
       "      <td>5</td>\n",
       "    </tr>\n",
       "    <tr>\n",
       "      <th>LR</th>\n",
       "      <td>72</td>\n",
       "    </tr>\n",
       "    <tr>\n",
       "      <th>SA</th>\n",
       "      <td>416</td>\n",
       "    </tr>\n",
       "  </tbody>\n",
       "</table>\n",
       "</div>"
      ],
      "text/plain": [
       "        MSN\n",
       "Family     \n",
       "DD        5\n",
       "LR       72\n",
       "SA      416"
      ]
     },
     "execution_count": 7,
     "metadata": {},
     "output_type": "execute_result"
    }
   ],
   "source": [
    "data.groupby(['Family']).count()[['MSN']]"
   ]
  },
  {
   "cell_type": "code",
   "execution_count": 8,
   "metadata": {},
   "outputs": [
    {
     "data": {
      "text/plain": [
       "<matplotlib.axes._subplots.AxesSubplot at 0x20055c49388>"
      ]
     },
     "execution_count": 8,
     "metadata": {},
     "output_type": "execute_result"
    },
    {
     "data": {
      "image/png": "[encoded data removed]",
      "text/plain": [
       "<Figure size 432x288 with 1 Axes>"
      ]
     },
     "metadata": {
      "needs_background": "light"
     },
     "output_type": "display_data"
    }
   ],
   "source": [
    "data.groupby(['Family']).count()[['Aircraft']].plot(kind='bar')"
   ]
  },
  {
   "cell_type": "code",
   "execution_count": 9,
   "metadata": {},
   "outputs": [
    {
     "data": {
      "text/html": [
       "<div>\n",
       "<style scoped>\n",
       "    .dataframe tbody tr th:only-of-type {\n",
       "        vertical-align: middle;\n",
       "    }\n",
       "\n",
       "    .dataframe tbody tr th {\n",
       "        vertical-align: top;\n",
       "    }\n",
       "\n",
       "    .dataframe thead th {\n",
       "        text-align: right;\n",
       "    }\n",
       "</style>\n",
       "<table border=\"1\" class=\"dataframe\">\n",
       "  <thead>\n",
       "    <tr style=\"text-align: right;\">\n",
       "      <th></th>\n",
       "      <th></th>\n",
       "      <th>MSN</th>\n",
       "    </tr>\n",
       "    <tr>\n",
       "      <th>Family</th>\n",
       "      <th>Aircraft</th>\n",
       "      <th></th>\n",
       "    </tr>\n",
       "  </thead>\n",
       "  <tbody>\n",
       "    <tr>\n",
       "      <th>DD</th>\n",
       "      <th>A380-800</th>\n",
       "      <td>5</td>\n",
       "    </tr>\n",
       "    <tr>\n",
       "      <th rowspan=\"7\" valign=\"top\">LR</th>\n",
       "      <th>A330-200</th>\n",
       "      <td>7</td>\n",
       "    </tr>\n",
       "    <tr>\n",
       "      <th>A330-300</th>\n",
       "      <td>50</td>\n",
       "    </tr>\n",
       "    <tr>\n",
       "      <th>A330-342</th>\n",
       "      <td>1</td>\n",
       "    </tr>\n",
       "    <tr>\n",
       "      <th>A330-343</th>\n",
       "      <td>1</td>\n",
       "    </tr>\n",
       "    <tr>\n",
       "      <th>A340-200</th>\n",
       "      <td>2</td>\n",
       "    </tr>\n",
       "    <tr>\n",
       "      <th>A340-300</th>\n",
       "      <td>9</td>\n",
       "    </tr>\n",
       "    <tr>\n",
       "      <th>A340-600</th>\n",
       "      <td>2</td>\n",
       "    </tr>\n",
       "    <tr>\n",
       "      <th rowspan=\"16\" valign=\"top\">SA</th>\n",
       "      <th>A318-100</th>\n",
       "      <td>7</td>\n",
       "    </tr>\n",
       "    <tr>\n",
       "      <th>A319</th>\n",
       "      <td>1</td>\n",
       "    </tr>\n",
       "    <tr>\n",
       "      <th>A319-100</th>\n",
       "      <td>101</td>\n",
       "    </tr>\n",
       "    <tr>\n",
       "      <th>A319-111</th>\n",
       "      <td>4</td>\n",
       "    </tr>\n",
       "    <tr>\n",
       "      <th>A319-112</th>\n",
       "      <td>2</td>\n",
       "    </tr>\n",
       "    <tr>\n",
       "      <th>A320-200</th>\n",
       "      <td>197</td>\n",
       "    </tr>\n",
       "    <tr>\n",
       "      <th>A320-214</th>\n",
       "      <td>13</td>\n",
       "    </tr>\n",
       "    <tr>\n",
       "      <th>A320-216</th>\n",
       "      <td>1</td>\n",
       "    </tr>\n",
       "    <tr>\n",
       "      <th>A320-232</th>\n",
       "      <td>16</td>\n",
       "    </tr>\n",
       "    <tr>\n",
       "      <th>A321-100</th>\n",
       "      <td>3</td>\n",
       "    </tr>\n",
       "    <tr>\n",
       "      <th>A321-200</th>\n",
       "      <td>63</td>\n",
       "    </tr>\n",
       "    <tr>\n",
       "      <th>A321-211</th>\n",
       "      <td>2</td>\n",
       "    </tr>\n",
       "    <tr>\n",
       "      <th>A321-213</th>\n",
       "      <td>2</td>\n",
       "    </tr>\n",
       "    <tr>\n",
       "      <th>A321-231</th>\n",
       "      <td>2</td>\n",
       "    </tr>\n",
       "    <tr>\n",
       "      <th>A330-200</th>\n",
       "      <td>1</td>\n",
       "    </tr>\n",
       "    <tr>\n",
       "      <th>A330-302</th>\n",
       "      <td>1</td>\n",
       "    </tr>\n",
       "  </tbody>\n",
       "</table>\n",
       "</div>"
      ],
      "text/plain": [
       "                 MSN\n",
       "Family Aircraft     \n",
       "DD     A380-800    5\n",
       "LR     A330-200    7\n",
       "       A330-300   50\n",
       "       A330-342    1\n",
       "       A330-343    1\n",
       "       A340-200    2\n",
       "       A340-300    9\n",
       "       A340-600    2\n",
       "SA     A318-100    7\n",
       "       A319        1\n",
       "       A319-100  101\n",
       "       A319-111    4\n",
       "       A319-112    2\n",
       "       A320-200  197\n",
       "       A320-214   13\n",
       "       A320-216    1\n",
       "       A320-232   16\n",
       "       A321-100    3\n",
       "       A321-200   63\n",
       "       A321-211    2\n",
       "       A321-213    2\n",
       "       A321-231    2\n",
       "       A330-200    1\n",
       "       A330-302    1"
      ]
     },
     "execution_count": 9,
     "metadata": {},
     "output_type": "execute_result"
    }
   ],
   "source": [
    "data.groupby(['Family','Aircraft']).count()[['MSN']]"
   ]
  },
  {
   "cell_type": "code",
   "execution_count": 10,
   "metadata": {},
   "outputs": [
    {
     "data": {
      "text/plain": [
       "<matplotlib.axes._subplots.AxesSubplot at 0x200578edf48>"
      ]
     },
     "execution_count": 10,
     "metadata": {},
     "output_type": "execute_result"
    },
    {
     "data": {
      "image/png": "[encoded data removed]",
      "text/plain": [
       "<Figure size 432x288 with 1 Axes>"
      ]
     },
     "metadata": {
      "needs_background": "light"
     },
     "output_type": "display_data"
    }
   ],
   "source": [
    "data.groupby(['Family','Aircraft']).count()[['MSN']].plot(kind='bar')"
   ]
  },
  {
   "cell_type": "code",
   "execution_count": 11,
   "metadata": {},
   "outputs": [
    {
     "data": {
      "text/plain": [
       "5.0"
      ]
     },
     "execution_count": 11,
     "metadata": {},
     "output_type": "execute_result"
    }
   ],
   "source": [
    "data.Family.str.count('DD').sum()"
   ]
  },
  {
   "cell_type": "code",
   "execution_count": 13,
   "metadata": {},
   "outputs": [],
   "source": [
    "family_type = ['DD', 'SA','LR']"
   ]
  },
  {
   "cell_type": "code",
   "execution_count": 14,
   "metadata": {},
   "outputs": [
    {
     "data": {
      "text/plain": [
       "<matplotlib.axes._subplots.AxesSubplot at 0x20056081788>"
      ]
     },
     "execution_count": 14,
     "metadata": {},
     "output_type": "execute_result"
    },
    {
     "data": {
      "image/png": "[encoded data removed]",
      "text/plain": [
       "<Figure size 432x288 with 1 Axes>"
      ]
     },
     "metadata": {
      "needs_background": "light"
     },
     "output_type": "display_data"
    }
   ],
   "source": [
    "pd.Series((data.Family.str.contains(r).sum() for r in family_type), family_type, name='count').plot(kind='bar')"
   ]
  },
  {
   "cell_type": "code",
   "execution_count": 16,
   "metadata": {},
   "outputs": [],
   "source": [
    "damage_type = ['Corrosion', 'Dent','Abrasion','Alternative Fastener','Aluminium Foil','Bush','Chafing','Crack','Damage','Elongated','Existing Rework','Gouge','Lightning', 'Nick','Scratch','WV Change']"
   ]
  },
  {
   "cell_type": "code",
   "execution_count": 17,
   "metadata": {},
   "outputs": [
    {
     "data": {
      "text/plain": [
       "<matplotlib.axes._subplots.AxesSubplot at 0x20057a500c8>"
      ]
     },
     "execution_count": 17,
     "metadata": {},
     "output_type": "execute_result"
    },
    {
     "data": {
      "image/png": "[encoded data removed]",
      "text/plain": [
       "<Figure size 432x288 with 1 Axes>"
      ]
     },
     "metadata": {
      "needs_background": "light"
     },
     "output_type": "display_data"
    }
   ],
   "source": [
    "pd.Series((data.RDTAS_title.str.contains(r).sum() for r in damage_type), damage_type, name='count').plot(kind='bar')"
   ]
  },
  {
   "cell_type": "code",
   "execution_count": 18,
   "metadata": {},
   "outputs": [
    {
     "data": {
      "text/plain": [
       "Corrosion               378\n",
       "Dent                     13\n",
       "Abrasion                 39\n",
       "Alternative Fastener      7\n",
       "Aluminium Foil           11\n",
       "Bush                     13\n",
       "Chafing                   2\n",
       "Crack                    10\n",
       "Damage                   30\n",
       "Elongated                 3\n",
       "Existing Rework           4\n",
       "Gouge                     3\n",
       "Lightning                 1\n",
       "Nick                      0\n",
       "Scratch                   1\n",
       "WV Change                 0\n",
       "Name: count, dtype: int64"
      ]
     },
     "execution_count": 18,
     "metadata": {},
     "output_type": "execute_result"
    }
   ],
   "source": [
    "pd.Series((data.RDTAS_title.str.contains(r).sum() for r in damage_type), damage_type, name='count')"
   ]
  },
  {
   "cell_type": "code",
   "execution_count": 19,
   "metadata": {},
   "outputs": [],
   "source": [
    "damage_location = ['Top Skin', 'Bottom Skin','Trailing Edge','Leading Edge','MLG','Wingtip','Fuel Tank','Shroud Box','Flap Track']"
   ]
  },
  {
   "cell_type": "code",
   "execution_count": 20,
   "metadata": {},
   "outputs": [
    {
     "data": {
      "text/plain": [
       "<matplotlib.axes._subplots.AxesSubplot at 0x20057afdc08>"
      ]
     },
     "execution_count": 20,
     "metadata": {},
     "output_type": "execute_result"
    },
    {
     "data": {
      "image/png": "[encoded data removed]",
      "text/plain": [
       "<Figure size 432x288 with 1 Axes>"
      ]
     },
     "metadata": {
      "needs_background": "light"
     },
     "output_type": "display_data"
    }
   ],
   "source": [
    "pd.Series((data.RDTAS_title.str.contains(r).sum() for r in damage_location), damage_location, name='count').plot(kind='bar')"
   ]
  },
  {
   "cell_type": "code",
   "execution_count": 21,
   "metadata": {},
   "outputs": [
    {
     "data": {
      "text/plain": [
       "Top Skin         214\n",
       "Bottom Skin       94\n",
       "Trailing Edge     86\n",
       "Leading Edge      46\n",
       "MLG               57\n",
       "Wingtip           17\n",
       "Fuel Tank          8\n",
       "Shroud Box         4\n",
       "Flap Track         9\n",
       "Name: count, dtype: int64"
      ]
     },
     "execution_count": 21,
     "metadata": {},
     "output_type": "execute_result"
    }
   ],
   "source": [
    "pd.Series((data.RDTAS_title.str.contains(r).sum() for r in damage_location), damage_location, name='count')"
   ]
  },
  {
   "cell_type": "code",
   "execution_count": 39,
   "metadata": {},
   "outputs": [
    {
     "name": "stdout",
     "output_type": "stream",
     "text": [
      "Please enter damage type  :Corr\n",
      "Please enter Panel   :Bottom\n",
      "Please enter location  :Stringer 11\n"
     ]
    },
    {
     "data": {
      "text/plain": [
       "['Corr', 'Bottom', 'Stringer 11']"
      ]
     },
     "execution_count": 39,
     "metadata": {},
     "output_type": "execute_result"
    }
   ],
   "source": [
    "list2=[]\n",
    "\n",
    "a=input(\"Please enter damage type  :\")\n",
    "list2.append(a)\n",
    "a=input(\"Please enter Panel   :\")\n",
    "list2.append(a)\n",
    "a=input(\"Please enter location  :\")\n",
    "list2.append(a)\n",
    "\n",
    "list2"
   ]
  },
  {
   "cell_type": "markdown",
   "metadata": {},
   "source": []
  },
  {
   "cell_type": "code",
   "execution_count": 40,
   "metadata": {},
   "outputs": [
    {
     "name": "stderr",
     "output_type": "stream",
     "text": [
      "E:\\ANA\\lib\\site-packages\\ipykernel_launcher.py:8: UserWarning: Boolean Series key will be reindexed to match DataFrame index.\n",
      "  \n"
     ]
    },
    {
     "data": {
      "text/html": [
       "<div>\n",
       "<style scoped>\n",
       "    .dataframe tbody tr th:only-of-type {\n",
       "        vertical-align: middle;\n",
       "    }\n",
       "\n",
       "    .dataframe tbody tr th {\n",
       "        vertical-align: top;\n",
       "    }\n",
       "\n",
       "    .dataframe thead th {\n",
       "        text-align: right;\n",
       "    }\n",
       "</style>\n",
       "<table border=\"1\" class=\"dataframe\">\n",
       "  <thead>\n",
       "    <tr style=\"text-align: right;\">\n",
       "      <th></th>\n",
       "      <th>Job no.</th>\n",
       "      <th>Engineer</th>\n",
       "      <th>Aircraft</th>\n",
       "      <th>MSN</th>\n",
       "      <th>Family</th>\n",
       "      <th>Folder numbering</th>\n",
       "      <th>FAS or RDTAS approved</th>\n",
       "      <th>Week</th>\n",
       "      <th>RDTAS_title</th>\n",
       "      <th>WVs (F&amp;DT)</th>\n",
       "      <th>RDTAS category</th>\n",
       "      <th>Means of Compliance (MoC)</th>\n",
       "      <th>F&amp;DT Keywords/Tags</th>\n",
       "      <th>Other technical information</th>\n",
       "    </tr>\n",
       "  </thead>\n",
       "  <tbody>\n",
       "    <tr>\n",
       "      <th>110</th>\n",
       "      <td>80530236/003</td>\n",
       "      <td>Sreekantha HS</td>\n",
       "      <td>A320-200</td>\n",
       "      <td>4466</td>\n",
       "      <td>SA</td>\n",
       "      <td>57-22</td>\n",
       "      <td>29-Oct-18</td>\n",
       "      <td>44.0</td>\n",
       "      <td>Corrosion, Bottom Skin Panel 2 Lower Surface, ...</td>\n",
       "      <td>000-019</td>\n",
       "      <td>A</td>\n",
       "      <td>SRM 57-21-11</td>\n",
       "      <td>SSI 57-21-50</td>\n",
       "      <td>NaN</td>\n",
       "    </tr>\n",
       "    <tr>\n",
       "      <th>114</th>\n",
       "      <td>80665355/003</td>\n",
       "      <td>Kodieshwaran S</td>\n",
       "      <td>A320-200</td>\n",
       "      <td>7086</td>\n",
       "      <td>SA</td>\n",
       "      <td>57-22</td>\n",
       "      <td>13-Aug-19</td>\n",
       "      <td>33.0</td>\n",
       "      <td>Corrosion, Bottom Skin Panel 2 Lower Surface, ...</td>\n",
       "      <td>F I L L - IN - H E R E</td>\n",
       "      <td>F I L L - IN - H E R E</td>\n",
       "      <td>F I L L - IN - H E R E</td>\n",
       "      <td>F I L L - IN - H E R E</td>\n",
       "      <td>NaN</td>\n",
       "    </tr>\n",
       "    <tr>\n",
       "      <th>120</th>\n",
       "      <td>80505856/003</td>\n",
       "      <td>Sreekantha HS</td>\n",
       "      <td>A320-200</td>\n",
       "      <td>5847</td>\n",
       "      <td>SA</td>\n",
       "      <td>57-22</td>\n",
       "      <td>31-Aug-18</td>\n",
       "      <td>35.0</td>\n",
       "      <td>Corrosion, Bottom Skin Panel 2, Lower Surface,...</td>\n",
       "      <td>008-019</td>\n",
       "      <td>B; no AWDC</td>\n",
       "      <td>SRM 57-21-11</td>\n",
       "      <td>SSI 57-20-42</td>\n",
       "      <td>NaN</td>\n",
       "    </tr>\n",
       "    <tr>\n",
       "      <th>121</th>\n",
       "      <td>80665307/003</td>\n",
       "      <td>Kodieshwaran S</td>\n",
       "      <td>A320-200</td>\n",
       "      <td>7086</td>\n",
       "      <td>SA</td>\n",
       "      <td>57-22</td>\n",
       "      <td>13-Aug-19</td>\n",
       "      <td>33.0</td>\n",
       "      <td>Corrosion, Bottom Skin Panel 2, Lower Surface,...</td>\n",
       "      <td>008-019 (RDTAS)</td>\n",
       "      <td>A</td>\n",
       "      <td>-</td>\n",
       "      <td>RDTAS only; FJD -&gt; X57RP1639953 ISSUE 2.0 -&gt; B...</td>\n",
       "      <td>NaN</td>\n",
       "    </tr>\n",
       "    <tr>\n",
       "      <th>122</th>\n",
       "      <td>80724927/003</td>\n",
       "      <td>Jalajakshi NS</td>\n",
       "      <td>A320-200</td>\n",
       "      <td>6471</td>\n",
       "      <td>SA</td>\n",
       "      <td>57-22</td>\n",
       "      <td>15-Jan-20</td>\n",
       "      <td>3.0</td>\n",
       "      <td>Corrosion, Bottom Skin Panel 2, Lower Surface,...</td>\n",
       "      <td>008-019</td>\n",
       "      <td>A</td>\n",
       "      <td>ALS Part 2</td>\n",
       "      <td>Light, Normalized Kt,10%  blend, DT statemet f...</td>\n",
       "      <td>NaN</td>\n",
       "    </tr>\n",
       "    <tr>\n",
       "      <th>154</th>\n",
       "      <td>80695632/XXX</td>\n",
       "      <td>Joel Andrews P</td>\n",
       "      <td>A320-232</td>\n",
       "      <td>3332</td>\n",
       "      <td>SA</td>\n",
       "      <td>NaN</td>\n",
       "      <td>NaN</td>\n",
       "      <td>0.0</td>\n",
       "      <td>Corrosion, Bottom Skin Panels 2 and 3, Lower S...</td>\n",
       "      <td>000-019</td>\n",
       "      <td>NaN</td>\n",
       "      <td>-</td>\n",
       "      <td>INTERIM</td>\n",
       "      <td>NaN</td>\n",
       "    </tr>\n",
       "  </tbody>\n",
       "</table>\n",
       "</div>"
      ],
      "text/plain": [
       "          Job no.        Engineer  Aircraft   MSN Family Folder numbering  \\\n",
       "110  80530236/003   Sreekantha HS  A320-200  4466     SA            57-22   \n",
       "114  80665355/003  Kodieshwaran S  A320-200  7086     SA            57-22   \n",
       "120  80505856/003   Sreekantha HS  A320-200  5847     SA            57-22   \n",
       "121  80665307/003  Kodieshwaran S  A320-200  7086     SA            57-22   \n",
       "122  80724927/003   Jalajakshi NS  A320-200  6471     SA            57-22   \n",
       "154  80695632/XXX  Joel Andrews P  A320-232  3332     SA              NaN   \n",
       "\n",
       "    FAS or RDTAS approved  Week  \\\n",
       "110             29-Oct-18  44.0   \n",
       "114             13-Aug-19  33.0   \n",
       "120             31-Aug-18  35.0   \n",
       "121             13-Aug-19  33.0   \n",
       "122             15-Jan-20   3.0   \n",
       "154                   NaN   0.0   \n",
       "\n",
       "                                           RDTAS_title  \\\n",
       "110  Corrosion, Bottom Skin Panel 2 Lower Surface, ...   \n",
       "114  Corrosion, Bottom Skin Panel 2 Lower Surface, ...   \n",
       "120  Corrosion, Bottom Skin Panel 2, Lower Surface,...   \n",
       "121  Corrosion, Bottom Skin Panel 2, Lower Surface,...   \n",
       "122  Corrosion, Bottom Skin Panel 2, Lower Surface,...   \n",
       "154  Corrosion, Bottom Skin Panels 2 and 3, Lower S...   \n",
       "\n",
       "                 WVs (F&DT)          RDTAS category Means of Compliance (MoC)  \\\n",
       "110                 000-019                       A              SRM 57-21-11   \n",
       "114  F I L L - IN - H E R E  F I L L - IN - H E R E    F I L L - IN - H E R E   \n",
       "120                 008-019              B; no AWDC              SRM 57-21-11   \n",
       "121         008-019 (RDTAS)                       A                         -   \n",
       "122                 008-019                       A                ALS Part 2   \n",
       "154                 000-019                     NaN                         -   \n",
       "\n",
       "                                    F&DT Keywords/Tags  \\\n",
       "110                                       SSI 57-21-50   \n",
       "114                             F I L L - IN - H E R E   \n",
       "120                                       SSI 57-20-42   \n",
       "121  RDTAS only; FJD -> X57RP1639953 ISSUE 2.0 -> B...   \n",
       "122  Light, Normalized Kt,10%  blend, DT statemet f...   \n",
       "154                                            INTERIM   \n",
       "\n",
       "    Other technical information  \n",
       "110                         NaN  \n",
       "114                         NaN  \n",
       "120                         NaN  \n",
       "121                         NaN  \n",
       "122                         NaN  \n",
       "154                         NaN  "
      ]
     },
     "execution_count": 40,
     "metadata": {},
     "output_type": "execute_result"
    }
   ],
   "source": [
    "list1 = ['Corrosion', 'Bottom', 'Stringer 11']\n",
    "#list1[0]\n",
    "\n",
    "list1=list2\n",
    "#regex = r'\\b(?:' + '|'.join(list1) + r')\\b'\n",
    "data1=data[data['RDTAS_title'].str.contains(list1[0], regex=True)]\n",
    "data2=data1[data1['RDTAS_title'].str.contains(list1[1], regex=True)]\n",
    "data3=data2[data1['RDTAS_title'].str.contains(list1[2], regex=True)]\n",
    "data3"
   ]
  },
  {
   "cell_type": "code",
   "execution_count": null,
   "metadata": {},
   "outputs": [],
   "source": []
  }
 ],
 "metadata": {
  "kernelspec": {
   "display_name": "Python 3",
   "language": "python",
   "name": "python3"
  },
  "language_info": {
   "codemirror_mode": {
    "name": "ipython",
    "version": 3
   },
   "file_extension": ".py",
   "mimetype": "text/x-python",
   "name": "python",
   "nbconvert_exporter": "python",
   "pygments_lexer": "ipython3",
   "version": "3.7.6"
  }
 },
 "nbformat": 4,
 "nbformat_minor": 4
}
