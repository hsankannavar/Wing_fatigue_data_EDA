{
 "cells": [
  {
   "cell_type": "code",
   "execution_count": 56,
   "metadata": {},
   "outputs": [],
   "source": [
    "import numpy as np\n",
    "import matplotlib.pyplot as ply\n",
    "import pandas as pd"
   ]
  },
  {
   "cell_type": "code",
   "execution_count": 57,
   "metadata": {},
   "outputs": [],
   "source": [
    "#importing data set\n",
    "data=pd.read_csv(r\"C:\\Users\\user\\Desktop\\Wing_F&DT\\F&DT_repair.csv\",encoding= 'unicode_escape')"
   ]
  },
  {
   "cell_type": "code",
   "execution_count": 58,
   "metadata": {},
   "outputs": [
    {
     "data": {
      "text/plain": [
       "<bound method NDFrame.head of           Job no.        Engineer  Aircraft   MSN Family Folder numbering  \\\n",
       "0    80338290/009      Nanaiah KC  A330-300   109     LR            57-21   \n",
       "1    80579310/003   Jalajakshi NS  A319-100  1582     SA            57-41   \n",
       "2    80506634/005   Sreekantha HS  A319-100  2897     SA            57-31   \n",
       "3    80573752/004   Jalajakshi NS       NaN   NaN     SA            57-60   \n",
       "4    80590223/006   Raghavendra M  A319-100  3841     SA            57-22   \n",
       "..            ...             ...       ...   ...    ...              ...   \n",
       "494  80647152/003         Aruna L  A320-200  2368     SA            57-21   \n",
       "495  80623897/003  Kodieshwaran S  A340-300   321     LR            57-22   \n",
       "496  80511899/003   Raghavendra M  A320-200  2934     SA            57-22   \n",
       "497  80375313/003         Aruna L  A320-200  5355     SA            57-22   \n",
       "498  80509093/003   Jalajakshi NS  A380-800    96     DD            57-41   \n",
       "\n",
       "    FAS or RDTAS approved  Week  \\\n",
       "0               16-Aug-17  33.0   \n",
       "1               21-Feb-19   8.0   \n",
       "2               07-Sep-18  36.0   \n",
       "3               13-Aug-19  33.0   \n",
       "4               18-Mar-19  12.0   \n",
       "..                    ...   ...   \n",
       "494             16-Jul-19  29.0   \n",
       "495             23-May-19  21.0   \n",
       "496             18-Oct-18  42.0   \n",
       "497             12-Feb-18   7.0   \n",
       "498             10-Sep-18  37.0   \n",
       "\n",
       "                                           RDTAS_title  \\\n",
       "0    Corrosion,Top Skin PNL 3 Upper & Lower Surface...   \n",
       "1    Abrasion and Damage, Leading Edge Skins 1 and ...   \n",
       "2    Abrasion and Lightning Strike, Wingtip, Right ...   \n",
       "3    Abrasion, Aileron Jack Bracket 1 and 2, Inboar...   \n",
       "4    Abrasion, Bottom Skin Panel 3, Aft of Rear Spa...   \n",
       "..                                                 ...   \n",
       "494  Existing Rework, Top Skin Panel 2, Lower Surfa...   \n",
       "495  Fastener Replacement,Bottom Skin Panel 3, Ribs...   \n",
       "496  Fretting, Bottom Skin Panel 2 Lower Surface, M...   \n",
       "497  Gouge, Bottom Skin Panel 2 Lower Surface, Ribs...   \n",
       "498  Gouge, IIFLE, Rib 2, Inner Flange, Left Hand Wing   \n",
       "\n",
       "                 WVs (F&DT)          RDTAS category  \\\n",
       "0          000-004, 010-014            B; with AWDC   \n",
       "1                       ALL                       A   \n",
       "2                       ALL                       A   \n",
       "3    F I L L - IN - H E R E  F I L L - IN - H E R E   \n",
       "4         000-009, 011, 012            B; with AWDC   \n",
       "..                      ...                     ...   \n",
       "494                 000-019            B; with AWDC   \n",
       "495                     ALL                       A   \n",
       "496                 000-019            B; with AWDC   \n",
       "497                 008-019              B; no AWDC   \n",
       "498                     ALL                       A   \n",
       "\n",
       "           Means of Compliance (MoC)  \\\n",
       "0                                  -   \n",
       "1                       SRM 57-41-11   \n",
       "2                       SRM 57-31-21   \n",
       "3             F I L L - IN - H E R E   \n",
       "4                                  -   \n",
       "..                               ...   \n",
       "494                                -   \n",
       "495                     SRM 57-21-11   \n",
       "496                                -   \n",
       "497  D572-56683 Issue B (old format)   \n",
       "498          L574-54256 (old format)   \n",
       "\n",
       "                                    F&DT Keywords/Tags  \\\n",
       "0                                         SSI 57-50-11   \n",
       "1    FAS only; D5741RP0405608 Issue 3 (DMS 61402); ...   \n",
       "2    FAS only; non-FCBS; the affected areas are awa...   \n",
       "3                               F I L L - IN - H E R E   \n",
       "4    FAS only; previous case; DT approach; SSI 57-5...   \n",
       "..                                                 ...   \n",
       "494                 Fas Only; D5721RP0928910 Issue 3.0   \n",
       "495  FAS only; Fasteners oversized to 1st / 2nd ove...   \n",
       "496  FAS only; SA57RP1640160 Issue 1.0; ALI task 57...   \n",
       "497  SSI 57-21-40 from IRD; blend does not affect f...   \n",
       "498  FAS only; cat 2B aircraft; ACD6 of post MOD 71223   \n",
       "\n",
       "          Other technical information  \n",
       "0                                 NaN  \n",
       "1    external repair plates installed  \n",
       "2                                 NaN  \n",
       "3                                 NaN  \n",
       "4                                 NaN  \n",
       "..                                ...  \n",
       "494                               NaN  \n",
       "495                               NaN  \n",
       "496                               NaN  \n",
       "497                               NaN  \n",
       "498                               NaN  \n",
       "\n",
       "[499 rows x 14 columns]>"
      ]
     },
     "execution_count": 58,
     "metadata": {},
     "output_type": "execute_result"
    }
   ],
   "source": [
    "data.head\n"
   ]
  },
  {
   "cell_type": "code",
   "execution_count": 59,
   "metadata": {},
   "outputs": [
    {
     "data": {
      "text/plain": [
       "(499, 14)"
      ]
     },
     "execution_count": 59,
     "metadata": {},
     "output_type": "execute_result"
    }
   ],
   "source": [
    "data.shape\n"
   ]
  },
  {
   "cell_type": "code",
   "execution_count": 60,
   "metadata": {},
   "outputs": [
    {
     "data": {
      "text/html": [
       "<div>\n",
       "<style scoped>\n",
       "    .dataframe tbody tr th:only-of-type {\n",
       "        vertical-align: middle;\n",
       "    }\n",
       "\n",
       "    .dataframe tbody tr th {\n",
       "        vertical-align: top;\n",
       "    }\n",
       "\n",
       "    .dataframe thead th {\n",
       "        text-align: right;\n",
       "    }\n",
       "</style>\n",
       "<table border=\"1\" class=\"dataframe\">\n",
       "  <thead>\n",
       "    <tr style=\"text-align: right;\">\n",
       "      <th></th>\n",
       "      <th>MSN</th>\n",
       "    </tr>\n",
       "    <tr>\n",
       "      <th>Family</th>\n",
       "      <th></th>\n",
       "    </tr>\n",
       "  </thead>\n",
       "  <tbody>\n",
       "    <tr>\n",
       "      <th>DD</th>\n",
       "      <td>5</td>\n",
       "    </tr>\n",
       "    <tr>\n",
       "      <th>LR</th>\n",
       "      <td>72</td>\n",
       "    </tr>\n",
       "    <tr>\n",
       "      <th>SA</th>\n",
       "      <td>416</td>\n",
       "    </tr>\n",
       "  </tbody>\n",
       "</table>\n",
       "</div>"
      ],
      "text/plain": [
       "        MSN\n",
       "Family     \n",
       "DD        5\n",
       "LR       72\n",
       "SA      416"
      ]
     },
     "execution_count": 60,
     "metadata": {},
     "output_type": "execute_result"
    }
   ],
   "source": [
    "data.groupby(['Family']).count()[['MSN']]"
   ]
  },
  {
   "cell_type": "code",
   "execution_count": 61,
   "metadata": {},
   "outputs": [
    {
     "ename": "NameError",
     "evalue": "name 'damage_type' is not defined",
     "output_type": "error",
     "traceback": [
      "\u001b[1;31m---------------------------------------------------------------------------\u001b[0m",
      "\u001b[1;31mNameError\u001b[0m                                 Traceback (most recent call last)",
      "\u001b[1;32m<ipython-input-61-a1b59f3144f9>\u001b[0m in \u001b[0;36m<module>\u001b[1;34m\u001b[0m\n\u001b[1;32m----> 1\u001b[1;33m \u001b[0mdata\u001b[0m\u001b[1;33m.\u001b[0m\u001b[0mgroupby\u001b[0m\u001b[1;33m(\u001b[0m\u001b[1;33m[\u001b[0m\u001b[0mdata\u001b[0m\u001b[1;33m.\u001b[0m\u001b[0mRDTAS_title\u001b[0m\u001b[1;33m.\u001b[0m\u001b[0mstr\u001b[0m\u001b[1;33m.\u001b[0m\u001b[0mcontains\u001b[0m\u001b[1;33m(\u001b[0m\u001b[0mr\u001b[0m\u001b[1;33m)\u001b[0m\u001b[1;33m.\u001b[0m\u001b[0msum\u001b[0m\u001b[1;33m(\u001b[0m\u001b[1;33m)\u001b[0m \u001b[1;32mfor\u001b[0m \u001b[0mr\u001b[0m \u001b[1;32min\u001b[0m \u001b[0mdamage_type\u001b[0m\u001b[1;33m]\u001b[0m\u001b[1;33m)\u001b[0m\u001b[1;33m.\u001b[0m\u001b[0mcount\u001b[0m\u001b[1;33m(\u001b[0m\u001b[1;33m)\u001b[0m\u001b[1;33m\u001b[0m\u001b[1;33m\u001b[0m\u001b[0m\n\u001b[0m",
      "\u001b[1;31mNameError\u001b[0m: name 'damage_type' is not defined"
     ]
    }
   ],
   "source": [
    "data.groupby([data.RDTAS_title.str.contains(r).sum() for r in damage_type]).count()"
   ]
  },
  {
   "cell_type": "code",
   "execution_count": 62,
   "metadata": {},
   "outputs": [
    {
     "data": {
      "text/plain": [
       "<matplotlib.axes._subplots.AxesSubplot at 0x27fd6b81688>"
      ]
     },
     "execution_count": 62,
     "metadata": {},
     "output_type": "execute_result"
    },
    {
     "data": {
      "image/png": "[encoded data removed]",
      "text/plain": [
       "<Figure size 432x288 with 1 Axes>"
      ]
     },
     "metadata": {
      "needs_background": "light"
     },
     "output_type": "display_data"
    }
   ],
   "source": [
    "data.groupby(['Family']).count()[['Aircraft']].plot(kind='bar')"
   ]
  },
  {
   "cell_type": "code",
   "execution_count": 63,
   "metadata": {},
   "outputs": [
    {
     "data": {
      "text/html": [
       "<div>\n",
       "<style scoped>\n",
       "    .dataframe tbody tr th:only-of-type {\n",
       "        vertical-align: middle;\n",
       "    }\n",
       "\n",
       "    .dataframe tbody tr th {\n",
       "        vertical-align: top;\n",
       "    }\n",
       "\n",
       "    .dataframe thead th {\n",
       "        text-align: right;\n",
       "    }\n",
       "</style>\n",
       "<table border=\"1\" class=\"dataframe\">\n",
       "  <thead>\n",
       "    <tr style=\"text-align: right;\">\n",
       "      <th></th>\n",
       "      <th></th>\n",
       "      <th>MSN</th>\n",
       "    </tr>\n",
       "    <tr>\n",
       "      <th>Family</th>\n",
       "      <th>Aircraft</th>\n",
       "      <th></th>\n",
       "    </tr>\n",
       "  </thead>\n",
       "  <tbody>\n",
       "    <tr>\n",
       "      <th>DD</th>\n",
       "      <th>A380-800</th>\n",
       "      <td>5</td>\n",
       "    </tr>\n",
       "    <tr>\n",
       "      <th rowspan=\"7\" valign=\"top\">LR</th>\n",
       "      <th>A330-200</th>\n",
       "      <td>7</td>\n",
       "    </tr>\n",
       "    <tr>\n",
       "      <th>A330-300</th>\n",
       "      <td>50</td>\n",
       "    </tr>\n",
       "    <tr>\n",
       "      <th>A330-342</th>\n",
       "      <td>1</td>\n",
       "    </tr>\n",
       "    <tr>\n",
       "      <th>A330-343</th>\n",
       "      <td>1</td>\n",
       "    </tr>\n",
       "    <tr>\n",
       "      <th>A340-200</th>\n",
       "      <td>2</td>\n",
       "    </tr>\n",
       "    <tr>\n",
       "      <th>A340-300</th>\n",
       "      <td>9</td>\n",
       "    </tr>\n",
       "    <tr>\n",
       "      <th>A340-600</th>\n",
       "      <td>2</td>\n",
       "    </tr>\n",
       "    <tr>\n",
       "      <th rowspan=\"16\" valign=\"top\">SA</th>\n",
       "      <th>A318-100</th>\n",
       "      <td>7</td>\n",
       "    </tr>\n",
       "    <tr>\n",
       "      <th>A319</th>\n",
       "      <td>1</td>\n",
       "    </tr>\n",
       "    <tr>\n",
       "      <th>A319-100</th>\n",
       "      <td>101</td>\n",
       "    </tr>\n",
       "    <tr>\n",
       "      <th>A319-111</th>\n",
       "      <td>4</td>\n",
       "    </tr>\n",
       "    <tr>\n",
       "      <th>A319-112</th>\n",
       "      <td>2</td>\n",
       "    </tr>\n",
       "    <tr>\n",
       "      <th>A320-200</th>\n",
       "      <td>197</td>\n",
       "    </tr>\n",
       "    <tr>\n",
       "      <th>A320-214</th>\n",
       "      <td>13</td>\n",
       "    </tr>\n",
       "    <tr>\n",
       "      <th>A320-216</th>\n",
       "      <td>1</td>\n",
       "    </tr>\n",
       "    <tr>\n",
       "      <th>A320-232</th>\n",
       "      <td>16</td>\n",
       "    </tr>\n",
       "    <tr>\n",
       "      <th>A321-100</th>\n",
       "      <td>3</td>\n",
       "    </tr>\n",
       "    <tr>\n",
       "      <th>A321-200</th>\n",
       "      <td>63</td>\n",
       "    </tr>\n",
       "    <tr>\n",
       "      <th>A321-211</th>\n",
       "      <td>2</td>\n",
       "    </tr>\n",
       "    <tr>\n",
       "      <th>A321-213</th>\n",
       "      <td>2</td>\n",
       "    </tr>\n",
       "    <tr>\n",
       "      <th>A321-231</th>\n",
       "      <td>2</td>\n",
       "    </tr>\n",
       "    <tr>\n",
       "      <th>A330-200</th>\n",
       "      <td>1</td>\n",
       "    </tr>\n",
       "    <tr>\n",
       "      <th>A330-302</th>\n",
       "      <td>1</td>\n",
       "    </tr>\n",
       "  </tbody>\n",
       "</table>\n",
       "</div>"
      ],
      "text/plain": [
       "                 MSN\n",
       "Family Aircraft     \n",
       "DD     A380-800    5\n",
       "LR     A330-200    7\n",
       "       A330-300   50\n",
       "       A330-342    1\n",
       "       A330-343    1\n",
       "       A340-200    2\n",
       "       A340-300    9\n",
       "       A340-600    2\n",
       "SA     A318-100    7\n",
       "       A319        1\n",
       "       A319-100  101\n",
       "       A319-111    4\n",
       "       A319-112    2\n",
       "       A320-200  197\n",
       "       A320-214   13\n",
       "       A320-216    1\n",
       "       A320-232   16\n",
       "       A321-100    3\n",
       "       A321-200   63\n",
       "       A321-211    2\n",
       "       A321-213    2\n",
       "       A321-231    2\n",
       "       A330-200    1\n",
       "       A330-302    1"
      ]
     },
     "execution_count": 63,
     "metadata": {},
     "output_type": "execute_result"
    }
   ],
   "source": [
    "data.groupby(['Family','Aircraft']).count()[['MSN']]"
   ]
  },
  {
   "cell_type": "code",
   "execution_count": 79,
   "metadata": {},
   "outputs": [
    {
     "data": {
      "text/plain": [
       "<matplotlib.axes._subplots.AxesSubplot at 0x27fd70af2c8>"
      ]
     },
     "execution_count": 79,
     "metadata": {},
     "output_type": "execute_result"
    },
    {
     "data": {
      "image/png": "[encoded data removed]",
      "text/plain": [
       "<Figure size 720x576 with 1 Axes>"
      ]
     },
     "metadata": {
      "needs_background": "light"
     },
     "output_type": "display_data"
    }
   ],
   "source": [
    "data.groupby(['Family','Aircraft']).count()[['MSN']].plot(kind='bar',figsize=(10, 8))"
   ]
  },
  {
   "cell_type": "code",
   "execution_count": 65,
   "metadata": {},
   "outputs": [
    {
     "data": {
      "text/plain": [
       "5.0"
      ]
     },
     "execution_count": 65,
     "metadata": {},
     "output_type": "execute_result"
    }
   ],
   "source": [
    "data.Family.str.count('DD').sum()"
   ]
  },
  {
   "cell_type": "code",
   "execution_count": 67,
   "metadata": {},
   "outputs": [],
   "source": [
    "family_type = ['DD', 'SA','LR']"
   ]
  },
  {
   "cell_type": "code",
   "execution_count": 68,
   "metadata": {},
   "outputs": [
    {
     "data": {
      "text/plain": [
       "<matplotlib.axes._subplots.AxesSubplot at 0x27fd6ce8148>"
      ]
     },
     "execution_count": 68,
     "metadata": {},
     "output_type": "execute_result"
    },
    {
     "data": {
      "image/png": "[encoded data removed]",
      "text/plain": [
       "<Figure size 720x576 with 1 Axes>"
      ]
     },
     "metadata": {
      "needs_background": "light"
     },
     "output_type": "display_data"
    }
   ],
   "source": [
    "pd.Series((data.Family.str.contains(r).sum() for r in family_type), family_type, name='count').plot(kind='bar',figsize=(10, 8))"
   ]
  },
  {
   "cell_type": "code",
   "execution_count": 69,
   "metadata": {},
   "outputs": [],
   "source": [
    "damage_type = ['Corrosion', 'Dent','Abrasion','Alternative Fastener','Aluminium Foil','Bush','Chafing','Crack','Damage','Elongated','Existing Rework','Gouge','Lightning', 'Nick','Scratch','WV Change']"
   ]
  },
  {
   "cell_type": "code",
   "execution_count": 70,
   "metadata": {},
   "outputs": [
    {
     "data": {
      "text/plain": [
       "<matplotlib.axes._subplots.AxesSubplot at 0x27fd6c95148>"
      ]
     },
     "execution_count": 70,
     "metadata": {},
     "output_type": "execute_result"
    },
    {
     "data": {
      "image/png": "[encoded data removed]",
      "text/plain": [
       "<Figure size 720x576 with 1 Axes>"
      ]
     },
     "metadata": {
      "needs_background": "light"
     },
     "output_type": "display_data"
    }
   ],
   "source": [
    "pd.Series((data.RDTAS_title.str.contains(r).sum() for r in damage_type), damage_type, name='count').plot(kind='bar',figsize=(10, 8))"
   ]
  },
  {
   "cell_type": "code",
   "execution_count": 71,
   "metadata": {},
   "outputs": [
    {
     "data": {
      "text/plain": [
       "Corrosion               378\n",
       "Dent                     13\n",
       "Abrasion                 39\n",
       "Alternative Fastener      7\n",
       "Aluminium Foil           11\n",
       "Bush                     13\n",
       "Chafing                   2\n",
       "Crack                    10\n",
       "Damage                   30\n",
       "Elongated                 3\n",
       "Existing Rework           4\n",
       "Gouge                     3\n",
       "Lightning                 1\n",
       "Nick                      0\n",
       "Scratch                   1\n",
       "WV Change                 0\n",
       "Name: count, dtype: int64"
      ]
     },
     "execution_count": 71,
     "metadata": {},
     "output_type": "execute_result"
    }
   ],
   "source": [
    "pd.Series((data.RDTAS_title.str.contains(r).sum() for r in damage_type), damage_type, name='count')"
   ]
  },
  {
   "cell_type": "code",
   "execution_count": 72,
   "metadata": {},
   "outputs": [],
   "source": [
    "damage_location = ['Top Skin', 'Bottom Skin','Trailing Edge','Leading Edge','MLG','Wingtip','Fuel Tank','Shroud Box','Flap Track']"
   ]
  },
  {
   "cell_type": "code",
   "execution_count": 73,
   "metadata": {},
   "outputs": [
    {
     "data": {
      "text/plain": [
       "<matplotlib.axes._subplots.AxesSubplot at 0x27fd6d66c88>"
      ]
     },
     "execution_count": 73,
     "metadata": {},
     "output_type": "execute_result"
    },
    {
     "data": {
      "image/png": "[encoded data removed]",
      "text/plain": [
       "<Figure size 720x576 with 1 Axes>"
      ]
     },
     "metadata": {
      "needs_background": "light"
     },
     "output_type": "display_data"
    }
   ],
   "source": [
    "pd.Series((data.RDTAS_title.str.contains(r).sum() for r in damage_location), damage_location, name='count').plot(kind='bar',figsize=(10, 8))"
   ]
  },
  {
   "cell_type": "code",
   "execution_count": 74,
   "metadata": {},
   "outputs": [
    {
     "data": {
      "text/plain": [
       "Top Skin         214\n",
       "Bottom Skin       94\n",
       "Trailing Edge     86\n",
       "Leading Edge      46\n",
       "MLG               57\n",
       "Wingtip           17\n",
       "Fuel Tank          8\n",
       "Shroud Box         4\n",
       "Flap Track         9\n",
       "Name: count, dtype: int64"
      ]
     },
     "execution_count": 74,
     "metadata": {},
     "output_type": "execute_result"
    }
   ],
   "source": [
    "pd.Series((data.RDTAS_title.str.contains(r).sum() for r in damage_location), damage_location, name='count')"
   ]
  },
  {
   "cell_type": "code",
   "execution_count": 75,
   "metadata": {},
   "outputs": [
    {
     "name": "stdout",
     "output_type": "stream",
     "text": [
      "Please enter damage type  :corrosion\n",
      "Please enter Panel   :top\n",
      "Please enter location  :str\n"
     ]
    },
    {
     "data": {
      "text/plain": [
       "['corrosion', 'top', 'str']"
      ]
     },
     "execution_count": 75,
     "metadata": {},
     "output_type": "execute_result"
    }
   ],
   "source": [
    "list2=[]\n",
    "\n",
    "a=input(\"Please enter damage type  :\")\n",
    "list2.append(a)\n",
    "a=input(\"Please enter Panel   :\")\n",
    "list2.append(a)\n",
    "a=input(\"Please enter location  :\")\n",
    "list2.append(a)\n",
    "\n",
    "list2"
   ]
  },
  {
   "cell_type": "markdown",
   "metadata": {},
   "source": []
  },
  {
   "cell_type": "code",
   "execution_count": 76,
   "metadata": {},
   "outputs": [
    {
     "name": "stderr",
     "output_type": "stream",
     "text": [
      "E:\\ANA\\lib\\site-packages\\ipykernel_launcher.py:8: UserWarning: Boolean Series key will be reindexed to match DataFrame index.\n",
      "  \n"
     ]
    },
    {
     "data": {
      "text/html": [
       "<div>\n",
       "<style scoped>\n",
       "    .dataframe tbody tr th:only-of-type {\n",
       "        vertical-align: middle;\n",
       "    }\n",
       "\n",
       "    .dataframe tbody tr th {\n",
       "        vertical-align: top;\n",
       "    }\n",
       "\n",
       "    .dataframe thead th {\n",
       "        text-align: right;\n",
       "    }\n",
       "</style>\n",
       "<table border=\"1\" class=\"dataframe\">\n",
       "  <thead>\n",
       "    <tr style=\"text-align: right;\">\n",
       "      <th></th>\n",
       "      <th>Job no.</th>\n",
       "      <th>Engineer</th>\n",
       "      <th>Aircraft</th>\n",
       "      <th>MSN</th>\n",
       "      <th>Family</th>\n",
       "      <th>Folder numbering</th>\n",
       "      <th>FAS or RDTAS approved</th>\n",
       "      <th>Week</th>\n",
       "      <th>RDTAS_title</th>\n",
       "      <th>WVs (F&amp;DT)</th>\n",
       "      <th>RDTAS category</th>\n",
       "      <th>Means of Compliance (MoC)</th>\n",
       "      <th>F&amp;DT Keywords/Tags</th>\n",
       "      <th>Other technical information</th>\n",
       "    </tr>\n",
       "  </thead>\n",
       "  <tbody>\n",
       "    <tr>\n",
       "      <th>72</th>\n",
       "      <td>80562756/003</td>\n",
       "      <td>Vijay BS</td>\n",
       "      <td>A330-300</td>\n",
       "      <td>838</td>\n",
       "      <td>LR</td>\n",
       "      <td>57-21</td>\n",
       "      <td>23-Jan-19</td>\n",
       "      <td>4.0</td>\n",
       "      <td>Corrosion and Damaged Hole,Top Skin Panel 2 Up...</td>\n",
       "      <td>ALL</td>\n",
       "      <td>A</td>\n",
       "      <td>SRM 57-21-11</td>\n",
       "      <td>FAS only; 10% blend; spigot location not criti...</td>\n",
       "      <td>NaN</td>\n",
       "    </tr>\n",
       "    <tr>\n",
       "      <th>161</th>\n",
       "      <td>80733760/003</td>\n",
       "      <td>Jalajakshi NS</td>\n",
       "      <td>A380-800</td>\n",
       "      <td>71</td>\n",
       "      <td>DD</td>\n",
       "      <td>57-21</td>\n",
       "      <td>21-Feb-20</td>\n",
       "      <td>NaN</td>\n",
       "      <td>Corrosion, Fillerstrap OWP and Top Skin Panel ...</td>\n",
       "      <td>000-005,007.009,010</td>\n",
       "      <td>A</td>\n",
       "      <td>SRM</td>\n",
       "      <td>FAS due to Fillerstrap</td>\n",
       "      <td>NaN</td>\n",
       "    </tr>\n",
       "    <tr>\n",
       "      <th>245</th>\n",
       "      <td>80570041/005</td>\n",
       "      <td>Jalajakshi NS</td>\n",
       "      <td>A321-200</td>\n",
       "      <td>2270</td>\n",
       "      <td>SA</td>\n",
       "      <td>57-21</td>\n",
       "      <td>23-Jan-19</td>\n",
       "      <td>4.0</td>\n",
       "      <td>Corrosion, Top Skin Panel 1 Upper Surface, Rib...</td>\n",
       "      <td>ALL</td>\n",
       "      <td>A</td>\n",
       "      <td>SRM 57-21-11</td>\n",
       "      <td>Kt is 1.0 after normalization to 10% blend;  n...</td>\n",
       "      <td>NaN</td>\n",
       "    </tr>\n",
       "    <tr>\n",
       "      <th>246</th>\n",
       "      <td>70560307/021</td>\n",
       "      <td>Sreekantha HS</td>\n",
       "      <td>A321-200</td>\n",
       "      <td>2234</td>\n",
       "      <td>SA</td>\n",
       "      <td>57-21</td>\n",
       "      <td>27-Apr-18</td>\n",
       "      <td>17.0</td>\n",
       "      <td>Corrosion, Top Skin Panel 1 Upper Surface, Rib...</td>\n",
       "      <td>ALL</td>\n",
       "      <td>A</td>\n",
       "      <td>SRM 57-21-11</td>\n",
       "      <td>Blend Kt; 10% blend</td>\n",
       "      <td>NaN</td>\n",
       "    </tr>\n",
       "    <tr>\n",
       "      <th>248</th>\n",
       "      <td>80649089/004</td>\n",
       "      <td>Kodieshwaran S</td>\n",
       "      <td>A319-100</td>\n",
       "      <td>1556</td>\n",
       "      <td>SA</td>\n",
       "      <td>57-21</td>\n",
       "      <td>23-Aug-19</td>\n",
       "      <td>34.0</td>\n",
       "      <td>Corrosion, Top Skin Panel 1 Upper Surface, Rib...</td>\n",
       "      <td>F I L L - IN - H E R E</td>\n",
       "      <td>F I L L - IN - H E R E</td>\n",
       "      <td>F I L L - IN - H E R E</td>\n",
       "      <td>F I L L - IN - H E R E</td>\n",
       "      <td>NaN</td>\n",
       "    </tr>\n",
       "    <tr>\n",
       "      <th>249</th>\n",
       "      <td>80625754/003</td>\n",
       "      <td>Kodieshwaran S</td>\n",
       "      <td>A319-100</td>\n",
       "      <td>3102</td>\n",
       "      <td>SA</td>\n",
       "      <td>57-21</td>\n",
       "      <td>24-May-19</td>\n",
       "      <td>21.0</td>\n",
       "      <td>Corrosion, Top Skin Panel 1 Upper Surface, Rib...</td>\n",
       "      <td>ALL</td>\n",
       "      <td>A</td>\n",
       "      <td>SRM 57-21-11</td>\n",
       "      <td>FAS only; 10% blend; O/S of fastener holes; wh...</td>\n",
       "      <td>tapered skin thickness</td>\n",
       "    </tr>\n",
       "    <tr>\n",
       "      <th>250</th>\n",
       "      <td>80552904/004</td>\n",
       "      <td>Raghavendra M</td>\n",
       "      <td>A320-200</td>\n",
       "      <td>2123</td>\n",
       "      <td>SA</td>\n",
       "      <td>57-21</td>\n",
       "      <td>03-Jan-19</td>\n",
       "      <td>1.0</td>\n",
       "      <td>Corrosion, Top Skin Panel 1 Upper Surface, Rib...</td>\n",
       "      <td>000-019</td>\n",
       "      <td>B; no AWDC</td>\n",
       "      <td>SRM 57-21-11</td>\n",
       "      <td>The combined stress factor 1.047 from SA5721RP...</td>\n",
       "      <td>NaN</td>\n",
       "    </tr>\n",
       "    <tr>\n",
       "      <th>251</th>\n",
       "      <td>80515754/003</td>\n",
       "      <td>Sreekantha HS</td>\n",
       "      <td>A320-200</td>\n",
       "      <td>2201</td>\n",
       "      <td>SA</td>\n",
       "      <td>57-21</td>\n",
       "      <td>25-Sep-18</td>\n",
       "      <td>39.0</td>\n",
       "      <td>Corrosion, Top Skin Panel 1 Upper Surface, Rib...</td>\n",
       "      <td>000-019</td>\n",
       "      <td>B; with AWDC</td>\n",
       "      <td>-</td>\n",
       "      <td>FAS only; SA5721RP1019410 Issue 2.0; blend dep...</td>\n",
       "      <td>NaN</td>\n",
       "    </tr>\n",
       "    <tr>\n",
       "      <th>253</th>\n",
       "      <td>80460490/003</td>\n",
       "      <td>Vijay BS</td>\n",
       "      <td>A320-200</td>\n",
       "      <td>4343</td>\n",
       "      <td>SA</td>\n",
       "      <td>57-21</td>\n",
       "      <td>01-Jun-18</td>\n",
       "      <td>22.0</td>\n",
       "      <td>Corrosion, Top Skin Panel 1 Upper Surface, Str...</td>\n",
       "      <td>000-019</td>\n",
       "      <td>B; with AWDC</td>\n",
       "      <td>-</td>\n",
       "      <td>SSI 57-20-14; WFD</td>\n",
       "      <td>NaN</td>\n",
       "    </tr>\n",
       "    <tr>\n",
       "      <th>265</th>\n",
       "      <td>80613351/004</td>\n",
       "      <td>Kodieshwaran S</td>\n",
       "      <td>A320-200</td>\n",
       "      <td>3136</td>\n",
       "      <td>SA</td>\n",
       "      <td>57-21</td>\n",
       "      <td>25-Apr-19</td>\n",
       "      <td>17.0</td>\n",
       "      <td>Corrosion, Top Skin Panel 1, Upper Surface, Ri...</td>\n",
       "      <td>ALL</td>\n",
       "      <td>A</td>\n",
       "      <td>SRM 57-21-11</td>\n",
       "      <td>FAS only; 10% blends;Multiple locations</td>\n",
       "      <td>NaN</td>\n",
       "    </tr>\n",
       "    <tr>\n",
       "      <th>267</th>\n",
       "      <td>80529147/003</td>\n",
       "      <td>Sreekantha HS</td>\n",
       "      <td>A320-200</td>\n",
       "      <td>3912</td>\n",
       "      <td>SA</td>\n",
       "      <td>57-21</td>\n",
       "      <td>25-Oct-18</td>\n",
       "      <td>43.0</td>\n",
       "      <td>Corrosion, Top Skin Panel 1, Upper Surface, Ri...</td>\n",
       "      <td>000-019</td>\n",
       "      <td>B; with AWDC</td>\n",
       "      <td>-</td>\n",
       "      <td>FAS only; SA5721RP1019410 Issue 2.0; TH set to...</td>\n",
       "      <td>NaN</td>\n",
       "    </tr>\n",
       "    <tr>\n",
       "      <th>268</th>\n",
       "      <td>80517706/003</td>\n",
       "      <td>Sreekantha HS</td>\n",
       "      <td>A320-200</td>\n",
       "      <td>3777</td>\n",
       "      <td>SA</td>\n",
       "      <td>57-21</td>\n",
       "      <td>16-Oct-18</td>\n",
       "      <td>42.0</td>\n",
       "      <td>Corrosion, Top Skin Panel 1, Upper Surface, Ri...</td>\n",
       "      <td>ALL</td>\n",
       "      <td>A</td>\n",
       "      <td>SRM 57-21-11</td>\n",
       "      <td>FAS only; 10% blend</td>\n",
       "      <td>NaN</td>\n",
       "    </tr>\n",
       "    <tr>\n",
       "      <th>269</th>\n",
       "      <td>80739239/004</td>\n",
       "      <td>Joel Andrews P</td>\n",
       "      <td>A320-214</td>\n",
       "      <td>1009</td>\n",
       "      <td>SA</td>\n",
       "      <td>NaN</td>\n",
       "      <td>31-Jan-20</td>\n",
       "      <td>5.0</td>\n",
       "      <td>Corrosion, Top Skin Panel 1, Upper Surface, St...</td>\n",
       "      <td>000-010, 013</td>\n",
       "      <td>A</td>\n",
       "      <td>SA5721RP1019410</td>\n",
       "      <td>RDTAS, covered by SA5721RP1019410</td>\n",
       "      <td>NaN</td>\n",
       "    </tr>\n",
       "    <tr>\n",
       "      <th>318</th>\n",
       "      <td>80592352/003</td>\n",
       "      <td>Vijay BS</td>\n",
       "      <td>A319-100</td>\n",
       "      <td>3841</td>\n",
       "      <td>SA</td>\n",
       "      <td>57-21</td>\n",
       "      <td>18-Mar-19</td>\n",
       "      <td>12.0</td>\n",
       "      <td>Corrosion, Top Skin Panel 2 Upper Surface, Rib...</td>\n",
       "      <td>ALL</td>\n",
       "      <td>A</td>\n",
       "      <td>SRM 57-21-11</td>\n",
       "      <td>FAS only; 10% blend</td>\n",
       "      <td>NaN</td>\n",
       "    </tr>\n",
       "    <tr>\n",
       "      <th>319</th>\n",
       "      <td>80553435/008</td>\n",
       "      <td>Sreekantha HS</td>\n",
       "      <td>A320-200</td>\n",
       "      <td>888</td>\n",
       "      <td>SA</td>\n",
       "      <td>57-21</td>\n",
       "      <td>18-Dec-18</td>\n",
       "      <td>51.0</td>\n",
       "      <td>Corrosion, Top Skin Panel 2 Upper Surface, Rib...</td>\n",
       "      <td>000-010, 013</td>\n",
       "      <td>B; with AWDC</td>\n",
       "      <td>-</td>\n",
       "      <td>AFI power law using SSI 57-21-20; CP power law...</td>\n",
       "      <td>Blend Kt = 1.21</td>\n",
       "    </tr>\n",
       "    <tr>\n",
       "      <th>320</th>\n",
       "      <td>80513024/006</td>\n",
       "      <td>Jalajakshi NS</td>\n",
       "      <td>A340-300</td>\n",
       "      <td>194</td>\n",
       "      <td>LR</td>\n",
       "      <td>57-21</td>\n",
       "      <td>10-Oct-18</td>\n",
       "      <td>41.0</td>\n",
       "      <td>Corrosion, Top Skin Panel 2 Upper Surface, Rib...</td>\n",
       "      <td>020-021, 023-027, 029</td>\n",
       "      <td>B; with AWDC</td>\n",
       "      <td>-</td>\n",
       "      <td>SSI 57-20-33; CP power law using edge crack co...</td>\n",
       "      <td>NaN</td>\n",
       "    </tr>\n",
       "    <tr>\n",
       "      <th>322</th>\n",
       "      <td>80610242/004</td>\n",
       "      <td>Sreekantha HS</td>\n",
       "      <td>A319-100</td>\n",
       "      <td>2119</td>\n",
       "      <td>SA</td>\n",
       "      <td>57-21</td>\n",
       "      <td>17-Apr-19</td>\n",
       "      <td>16.0</td>\n",
       "      <td>Corrosion, Top Skin Panel 2 Upper Surface, Rib...</td>\n",
       "      <td>ALL</td>\n",
       "      <td>A</td>\n",
       "      <td>SRM 57-21-11</td>\n",
       "      <td>FAS only; 10% blend; fastener O/S</td>\n",
       "      <td>NaN</td>\n",
       "    </tr>\n",
       "    <tr>\n",
       "      <th>324</th>\n",
       "      <td>80548548/017</td>\n",
       "      <td>Sreekantha HS</td>\n",
       "      <td>A320-200</td>\n",
       "      <td>2329</td>\n",
       "      <td>SA</td>\n",
       "      <td>57-21</td>\n",
       "      <td>03-Jan-19</td>\n",
       "      <td>1.0</td>\n",
       "      <td>Corrosion, Top Skin Panel 2 Upper Surface, Rib...</td>\n",
       "      <td>000-019</td>\n",
       "      <td>B; no AWDC</td>\n",
       "      <td>SRM 57-21-11</td>\n",
       "      <td>10% blends; AFI using SSI 57-21-20; no ALS tas...</td>\n",
       "      <td>NaN</td>\n",
       "    </tr>\n",
       "    <tr>\n",
       "      <th>331</th>\n",
       "      <td>80424111/004</td>\n",
       "      <td>Jalajakshi NS</td>\n",
       "      <td>A320-200</td>\n",
       "      <td>1121</td>\n",
       "      <td>SA</td>\n",
       "      <td>57-21</td>\n",
       "      <td>01-Mar-18</td>\n",
       "      <td>9.0</td>\n",
       "      <td>Corrosion, Top Skin Panel 2 Upper Surface, Rib...</td>\n",
       "      <td>000-010, 013, 014</td>\n",
       "      <td>B; no AWDC</td>\n",
       "      <td>SRM 57-21-11</td>\n",
       "      <td>SSI 57-20-14</td>\n",
       "      <td>NaN</td>\n",
       "    </tr>\n",
       "    <tr>\n",
       "      <th>338</th>\n",
       "      <td>80625754/014</td>\n",
       "      <td>Kodieshwaran S</td>\n",
       "      <td>A319-100</td>\n",
       "      <td>3102</td>\n",
       "      <td>SA</td>\n",
       "      <td>57-21</td>\n",
       "      <td>24-May-19</td>\n",
       "      <td>21.0</td>\n",
       "      <td>Corrosion, Top Skin Panel 2 Upper Surface, Rib...</td>\n",
       "      <td>ALL</td>\n",
       "      <td>A</td>\n",
       "      <td>SRM 57-21-11</td>\n",
       "      <td>FAS only; 10% blend; O/S of fastener holes; wh...</td>\n",
       "      <td>tapered skin thickness</td>\n",
       "    </tr>\n",
       "    <tr>\n",
       "      <th>398</th>\n",
       "      <td>80651200/010</td>\n",
       "      <td>Vijay BS</td>\n",
       "      <td>A320-200</td>\n",
       "      <td>892</td>\n",
       "      <td>SA</td>\n",
       "      <td>57-21</td>\n",
       "      <td>30-Jul-19</td>\n",
       "      <td>31.0</td>\n",
       "      <td>Corrosion, Top Skin Panel 2, Upper Surface, Ri...</td>\n",
       "      <td>000-010, 013 (RDTAS)</td>\n",
       "      <td>A</td>\n",
       "      <td>-</td>\n",
       "      <td>RDTAS only; FJD -&gt; X57RP1639953 Issue 2.0 -&gt; B...</td>\n",
       "      <td>NaN</td>\n",
       "    </tr>\n",
       "  </tbody>\n",
       "</table>\n",
       "</div>"
      ],
      "text/plain": [
       "          Job no.        Engineer  Aircraft   MSN Family Folder numbering  \\\n",
       "72   80562756/003        Vijay BS  A330-300   838     LR            57-21   \n",
       "161  80733760/003   Jalajakshi NS  A380-800    71     DD            57-21   \n",
       "245  80570041/005   Jalajakshi NS  A321-200  2270     SA            57-21   \n",
       "246  70560307/021   Sreekantha HS  A321-200  2234     SA            57-21   \n",
       "248  80649089/004  Kodieshwaran S  A319-100  1556     SA            57-21   \n",
       "249  80625754/003  Kodieshwaran S  A319-100  3102     SA            57-21   \n",
       "250  80552904/004   Raghavendra M  A320-200  2123     SA            57-21   \n",
       "251  80515754/003   Sreekantha HS  A320-200  2201     SA            57-21   \n",
       "253  80460490/003        Vijay BS  A320-200  4343     SA            57-21   \n",
       "265  80613351/004  Kodieshwaran S  A320-200  3136     SA            57-21   \n",
       "267  80529147/003   Sreekantha HS  A320-200  3912     SA            57-21   \n",
       "268  80517706/003   Sreekantha HS  A320-200  3777     SA            57-21   \n",
       "269  80739239/004  Joel Andrews P  A320-214  1009     SA              NaN   \n",
       "318  80592352/003        Vijay BS  A319-100  3841     SA            57-21   \n",
       "319  80553435/008   Sreekantha HS  A320-200   888     SA            57-21   \n",
       "320  80513024/006   Jalajakshi NS  A340-300   194     LR            57-21   \n",
       "322  80610242/004   Sreekantha HS  A319-100  2119     SA            57-21   \n",
       "324  80548548/017   Sreekantha HS  A320-200  2329     SA            57-21   \n",
       "331  80424111/004   Jalajakshi NS  A320-200  1121     SA            57-21   \n",
       "338  80625754/014  Kodieshwaran S  A319-100  3102     SA            57-21   \n",
       "398  80651200/010        Vijay BS  A320-200   892     SA            57-21   \n",
       "\n",
       "    FAS or RDTAS approved  Week  \\\n",
       "72              23-Jan-19   4.0   \n",
       "161             21-Feb-20   NaN   \n",
       "245             23-Jan-19   4.0   \n",
       "246             27-Apr-18  17.0   \n",
       "248             23-Aug-19  34.0   \n",
       "249             24-May-19  21.0   \n",
       "250             03-Jan-19   1.0   \n",
       "251             25-Sep-18  39.0   \n",
       "253             01-Jun-18  22.0   \n",
       "265             25-Apr-19  17.0   \n",
       "267             25-Oct-18  43.0   \n",
       "268             16-Oct-18  42.0   \n",
       "269             31-Jan-20   5.0   \n",
       "318             18-Mar-19  12.0   \n",
       "319             18-Dec-18  51.0   \n",
       "320             10-Oct-18  41.0   \n",
       "322             17-Apr-19  16.0   \n",
       "324             03-Jan-19   1.0   \n",
       "331             01-Mar-18   9.0   \n",
       "338             24-May-19  21.0   \n",
       "398             30-Jul-19  31.0   \n",
       "\n",
       "                                           RDTAS_title  \\\n",
       "72   Corrosion and Damaged Hole,Top Skin Panel 2 Up...   \n",
       "161  Corrosion, Fillerstrap OWP and Top Skin Panel ...   \n",
       "245  Corrosion, Top Skin Panel 1 Upper Surface, Rib...   \n",
       "246  Corrosion, Top Skin Panel 1 Upper Surface, Rib...   \n",
       "248  Corrosion, Top Skin Panel 1 Upper Surface, Rib...   \n",
       "249  Corrosion, Top Skin Panel 1 Upper Surface, Rib...   \n",
       "250  Corrosion, Top Skin Panel 1 Upper Surface, Rib...   \n",
       "251  Corrosion, Top Skin Panel 1 Upper Surface, Rib...   \n",
       "253  Corrosion, Top Skin Panel 1 Upper Surface, Str...   \n",
       "265  Corrosion, Top Skin Panel 1, Upper Surface, Ri...   \n",
       "267  Corrosion, Top Skin Panel 1, Upper Surface, Ri...   \n",
       "268  Corrosion, Top Skin Panel 1, Upper Surface, Ri...   \n",
       "269  Corrosion, Top Skin Panel 1, Upper Surface, St...   \n",
       "318  Corrosion, Top Skin Panel 2 Upper Surface, Rib...   \n",
       "319  Corrosion, Top Skin Panel 2 Upper Surface, Rib...   \n",
       "320  Corrosion, Top Skin Panel 2 Upper Surface, Rib...   \n",
       "322  Corrosion, Top Skin Panel 2 Upper Surface, Rib...   \n",
       "324  Corrosion, Top Skin Panel 2 Upper Surface, Rib...   \n",
       "331  Corrosion, Top Skin Panel 2 Upper Surface, Rib...   \n",
       "338  Corrosion, Top Skin Panel 2 Upper Surface, Rib...   \n",
       "398  Corrosion, Top Skin Panel 2, Upper Surface, Ri...   \n",
       "\n",
       "                 WVs (F&DT)          RDTAS category Means of Compliance (MoC)  \\\n",
       "72                      ALL                       A              SRM 57-21-11   \n",
       "161     000-005,007.009,010                       A                       SRM   \n",
       "245                     ALL                       A              SRM 57-21-11   \n",
       "246                     ALL                       A              SRM 57-21-11   \n",
       "248  F I L L - IN - H E R E  F I L L - IN - H E R E    F I L L - IN - H E R E   \n",
       "249                     ALL                       A              SRM 57-21-11   \n",
       "250                 000-019              B; no AWDC              SRM 57-21-11   \n",
       "251                 000-019            B; with AWDC                         -   \n",
       "253                 000-019            B; with AWDC                         -   \n",
       "265                     ALL                       A              SRM 57-21-11   \n",
       "267                 000-019            B; with AWDC                         -   \n",
       "268                     ALL                       A              SRM 57-21-11   \n",
       "269            000-010, 013                       A           SA5721RP1019410   \n",
       "318                     ALL                       A              SRM 57-21-11   \n",
       "319            000-010, 013            B; with AWDC                         -   \n",
       "320   020-021, 023-027, 029            B; with AWDC                         -   \n",
       "322                     ALL                       A              SRM 57-21-11   \n",
       "324                 000-019              B; no AWDC              SRM 57-21-11   \n",
       "331       000-010, 013, 014              B; no AWDC              SRM 57-21-11   \n",
       "338                     ALL                       A              SRM 57-21-11   \n",
       "398    000-010, 013 (RDTAS)                       A                         -   \n",
       "\n",
       "                                    F&DT Keywords/Tags  \\\n",
       "72   FAS only; 10% blend; spigot location not criti...   \n",
       "161                            FAS due to Fillerstrap    \n",
       "245  Kt is 1.0 after normalization to 10% blend;  n...   \n",
       "246                                Blend Kt; 10% blend   \n",
       "248                             F I L L - IN - H E R E   \n",
       "249  FAS only; 10% blend; O/S of fastener holes; wh...   \n",
       "250  The combined stress factor 1.047 from SA5721RP...   \n",
       "251  FAS only; SA5721RP1019410 Issue 2.0; blend dep...   \n",
       "253                                  SSI 57-20-14; WFD   \n",
       "265            FAS only; 10% blends;Multiple locations   \n",
       "267  FAS only; SA5721RP1019410 Issue 2.0; TH set to...   \n",
       "268                                FAS only; 10% blend   \n",
       "269                  RDTAS, covered by SA5721RP1019410   \n",
       "318                                FAS only; 10% blend   \n",
       "319  AFI power law using SSI 57-21-20; CP power law...   \n",
       "320  SSI 57-20-33; CP power law using edge crack co...   \n",
       "322                  FAS only; 10% blend; fastener O/S   \n",
       "324  10% blends; AFI using SSI 57-21-20; no ALS tas...   \n",
       "331                                       SSI 57-20-14   \n",
       "338  FAS only; 10% blend; O/S of fastener holes; wh...   \n",
       "398  RDTAS only; FJD -> X57RP1639953 Issue 2.0 -> B...   \n",
       "\n",
       "    Other technical information  \n",
       "72                          NaN  \n",
       "161                         NaN  \n",
       "245                         NaN  \n",
       "246                         NaN  \n",
       "248                         NaN  \n",
       "249      tapered skin thickness  \n",
       "250                         NaN  \n",
       "251                         NaN  \n",
       "253                         NaN  \n",
       "265                         NaN  \n",
       "267                         NaN  \n",
       "268                         NaN  \n",
       "269                         NaN  \n",
       "318                         NaN  \n",
       "319             Blend Kt = 1.21  \n",
       "320                         NaN  \n",
       "322                         NaN  \n",
       "324                         NaN  \n",
       "331                         NaN  \n",
       "338      tapered skin thickness  \n",
       "398                         NaN  "
      ]
     },
     "execution_count": 76,
     "metadata": {},
     "output_type": "execute_result"
    }
   ],
   "source": [
    "list1 = ['', '', 'WX4010']\n",
    "#list1[0]\n",
    "\n",
    "list1=list2\n",
    "#regex = r'\\b(?:' + '|'.join(list1) + r')\\b'\n",
    "data1=data[data['RDTAS_title'].str.contains(list1[0], case=False,regex=True)]\n",
    "data2=data1[data1['RDTAS_title'].str.contains(list1[1], case=False,regex=True)]\n",
    "data3=data2[data1['RDTAS_title'].str.contains(list1[2], case=False,regex=True)]\n",
    "data3"
   ]
  },
  {
   "cell_type": "code",
   "execution_count": null,
   "metadata": {
    "scrolled": true
   },
   "outputs": [],
   "source": [
    "data3.loc[data3['Aircraft'] == 'A320-200']"
   ]
  },
  {
   "cell_type": "code",
   "execution_count": 77,
   "metadata": {},
   "outputs": [],
   "source": [
    "%matplotlib inline\n",
    "import matplotlib.pyplot as ply\n",
    "from matplotlib import pyplot\n",
    "damage_location = ['Top Skin', 'Bottom Skin']\n",
    "#stateseries = pd.DataFrame(data3[(data3['RDTAS_title'].\\\n",
    "#    isin(damage_location))][['FAS or RDTAS approved','Aircraft']].dropna().\n",
    "#    #groupby(['FAS or RDTAS approved', 'Aircraft'])['FAS or RDTAS approved','Aircraft'].mean().unstack())\n",
    "#stateseries.plot(figsize=(15,8), linewidth=3)\n",
    "#print(stateseries)\n",
    "#ply.show()"
   ]
  },
  {
   "cell_type": "code",
   "execution_count": 96,
   "metadata": {},
   "outputs": [
    {
     "data": {
      "image/png": "[encoded data removed]",
      "text/plain": [
       "<Figure size 864x432 with 1 Axes>"
      ]
     },
     "metadata": {
      "needs_background": "light"
     },
     "output_type": "display_data"
    },
    {
     "data": {
      "image/png": "[encoded data removed]",
      "text/plain": [
       "<Figure size 432x288 with 1 Axes>"
      ]
     },
     "metadata": {
      "needs_background": "light"
     },
     "output_type": "display_data"
    }
   ],
   "source": [
    "list_damage=['Front Spar']\n",
    "data_damage=data[data['RDTAS_title'].str.contains(list_damage[0], case=False,regex=True)]\n",
    "data_damage.head()\n",
    "data_damage.groupby(['FAS or RDTAS approved']).count()[['MSN']].plot(kind='bar',figsize=(12, 6))\n",
    "data_dam=data_damage.groupby(['FAS or RDTAS approved']).count()[['MSN']]\n",
    "ply.ylabel(list_damage[0])\n",
    "data_dam.plot()\n",
    "pyplot.show()\n",
    "#x=data_dam('FAS or RDTAS approved').values\n",
    "x=data_dam.index.tolist()\n",
    "#x\n",
    "y=data_dam['MSN'].tolist()\n",
    "#y\n",
    "\n"
   ]
  },
  {
   "cell_type": "code",
   "execution_count": null,
   "metadata": {},
   "outputs": [],
   "source": [
    "[pd.Series((data.RDTAS_title.str.contains(r).sum() for r in damage_location), damage_location)]"
   ]
  },
  {
   "cell_type": "code",
   "execution_count": null,
   "metadata": {},
   "outputs": [],
   "source": [
    "data_dam.shape\n",
    "\n",
    "type(x)"
   ]
  },
  {
   "cell_type": "code",
   "execution_count": null,
   "metadata": {},
   "outputs": [],
   "source": [
    "ply.scatter(x,y)"
   ]
  },
  {
   "cell_type": "code",
   "execution_count": null,
   "metadata": {},
   "outputs": [],
   "source": [
    "from sklearn.compose import ColumnTransformer\n",
    "from sklearn.preprocessing import OneHotEncoder\n",
    "ct = ColumnTransformer(transformers=[('encoder', OneHotEncoder(), [3])], remainder='passthrough')\n",
    "x = np.array(ct.fit_transform(x))"
   ]
  }
 ],
 "metadata": {
  "kernelspec": {
   "display_name": "Python 3",
   "language": "python",
   "name": "python3"
  },
  "language_info": {
   "codemirror_mode": {
    "name": "ipython",
    "version": 3
   },
   "file_extension": ".py",
   "mimetype": "text/x-python",
   "name": "python",
   "nbconvert_exporter": "python",
   "pygments_lexer": "ipython3",
   "version": "3.7.6"
  }
 },
 "nbformat": 4,
 "nbformat_minor": 4
}
